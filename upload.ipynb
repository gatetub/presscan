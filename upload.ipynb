{
  "cells": [
    {
      "cell_type": "markdown",
      "metadata": {
        "id": "view-in-github",
        "colab_type": "text"
      },
      "source": [
        "<a href=\"https://colab.research.google.com/github/gatetub/presscan/blob/main/upload.ipynb\" target=\"_parent\"><img src=\"https://colab.research.google.com/assets/colab-badge.svg\" alt=\"Open In Colab\"/></a>"
      ]
    },
    {
      "cell_type": "code",
      "execution_count": 1,
      "metadata": {
        "colab": {
          "base_uri": "https://localhost:8080/"
        },
        "id": "hL5GP7wZFjUn",
        "outputId": "be8b3d57-5ff7-48aa-ad52-a869fe008524"
      },
      "outputs": [
        {
          "output_type": "stream",
          "name": "stdout",
          "text": [
            "Collecting tesseract\n",
            "  Downloading tesseract-0.1.3.tar.gz (45.6 MB)\n",
            "\u001b[2K     \u001b[90m━━━━━━━━━━━━━━━━━━━━━━━━━━━━━━━━━━━━━━━━\u001b[0m \u001b[32m45.6/45.6 MB\u001b[0m \u001b[31m14.1 MB/s\u001b[0m eta \u001b[36m0:00:00\u001b[0m\n",
            "\u001b[?25h  Preparing metadata (setup.py) ... \u001b[?25l\u001b[?25hdone\n",
            "Building wheels for collected packages: tesseract\n",
            "  Building wheel for tesseract (setup.py) ... \u001b[?25l\u001b[?25hdone\n",
            "  Created wheel for tesseract: filename=tesseract-0.1.3-py3-none-any.whl size=45562552 sha256=f203f05cda07725060458281ab921c08d0dd6b6454b499fd45aafbf8bb0d188e\n",
            "  Stored in directory: /root/.cache/pip/wheels/71/c9/aa/698c579693e83fdda9ad6d6f0d8f61ed986e27925ef576f109\n",
            "Successfully built tesseract\n",
            "Installing collected packages: tesseract\n",
            "Successfully installed tesseract-0.1.3\n"
          ]
        }
      ],
      "source": [
        " pip install tesseract"
      ]
    },
    {
      "cell_type": "code",
      "execution_count": 2,
      "metadata": {
        "colab": {
          "base_uri": "https://localhost:8080/"
        },
        "id": "OhCiSgyTFoUP",
        "outputId": "9d7b6ee1-f69d-49b6-e45b-38a91a0f170c"
      },
      "outputs": [
        {
          "output_type": "stream",
          "name": "stdout",
          "text": [
            "Collecting pytesseract\n",
            "  Downloading pytesseract-0.3.10-py3-none-any.whl (14 kB)\n",
            "Requirement already satisfied: packaging>=21.3 in /usr/local/lib/python3.10/dist-packages (from pytesseract) (23.2)\n",
            "Requirement already satisfied: Pillow>=8.0.0 in /usr/local/lib/python3.10/dist-packages (from pytesseract) (9.4.0)\n",
            "Installing collected packages: pytesseract\n",
            "Successfully installed pytesseract-0.3.10\n",
            "Reading package lists... Done\n",
            "Building dependency tree... Done\n",
            "Reading state information... Done\n",
            "The following additional packages will be installed:\n",
            "  tesseract-ocr-eng tesseract-ocr-osd\n",
            "The following NEW packages will be installed:\n",
            "  tesseract-ocr tesseract-ocr-eng tesseract-ocr-osd\n",
            "0 upgraded, 3 newly installed, 0 to remove and 24 not upgraded.\n",
            "Need to get 4,816 kB of archives.\n",
            "After this operation, 15.6 MB of additional disk space will be used.\n",
            "Get:1 http://archive.ubuntu.com/ubuntu jammy/universe amd64 tesseract-ocr-eng all 1:4.00~git30-7274cfa-1.1 [1,591 kB]\n",
            "Get:2 http://archive.ubuntu.com/ubuntu jammy/universe amd64 tesseract-ocr-osd all 1:4.00~git30-7274cfa-1.1 [2,990 kB]\n",
            "Get:3 http://archive.ubuntu.com/ubuntu jammy/universe amd64 tesseract-ocr amd64 4.1.1-2.1build1 [236 kB]\n",
            "Fetched 4,816 kB in 1s (5,028 kB/s)\n",
            "debconf: unable to initialize frontend: Dialog\n",
            "debconf: (No usable dialog-like program is installed, so the dialog based frontend cannot be used. at /usr/share/perl5/Debconf/FrontEnd/Dialog.pm line 78, <> line 3.)\n",
            "debconf: falling back to frontend: Readline\n",
            "debconf: unable to initialize frontend: Readline\n",
            "debconf: (This frontend requires a controlling tty.)\n",
            "debconf: falling back to frontend: Teletype\n",
            "dpkg-preconfigure: unable to re-open stdin: \n",
            "Selecting previously unselected package tesseract-ocr-eng.\n",
            "(Reading database ... 121658 files and directories currently installed.)\n",
            "Preparing to unpack .../tesseract-ocr-eng_1%3a4.00~git30-7274cfa-1.1_all.deb ...\n",
            "Unpacking tesseract-ocr-eng (1:4.00~git30-7274cfa-1.1) ...\n",
            "Selecting previously unselected package tesseract-ocr-osd.\n",
            "Preparing to unpack .../tesseract-ocr-osd_1%3a4.00~git30-7274cfa-1.1_all.deb ...\n",
            "Unpacking tesseract-ocr-osd (1:4.00~git30-7274cfa-1.1) ...\n",
            "Selecting previously unselected package tesseract-ocr.\n",
            "Preparing to unpack .../tesseract-ocr_4.1.1-2.1build1_amd64.deb ...\n",
            "Unpacking tesseract-ocr (4.1.1-2.1build1) ...\n",
            "Setting up tesseract-ocr-eng (1:4.00~git30-7274cfa-1.1) ...\n",
            "Setting up tesseract-ocr-osd (1:4.00~git30-7274cfa-1.1) ...\n",
            "Setting up tesseract-ocr (4.1.1-2.1build1) ...\n",
            "Processing triggers for man-db (2.10.2-1) ...\n",
            "Requirement already satisfied: opencv-python in /usr/local/lib/python3.10/dist-packages (4.8.0.76)\n",
            "Requirement already satisfied: numpy>=1.21.2 in /usr/local/lib/python3.10/dist-packages (from opencv-python) (1.23.5)\n"
          ]
        }
      ],
      "source": [
        "!pip install pytesseract\n",
        "!sudo apt install tesseract-ocr\n",
        "!pip install opencv-python"
      ]
    },
    {
      "cell_type": "code",
      "execution_count": 3,
      "metadata": {
        "colab": {
          "base_uri": "https://localhost:8080/"
        },
        "id": "bnu1I3fozCKb",
        "outputId": "09236448-a4d6-42d7-fbfb-8316194d3278"
      },
      "outputs": [
        {
          "output_type": "stream",
          "name": "stdout",
          "text": [
            "Mounted at /content/drive\n"
          ]
        }
      ],
      "source": [
        "from google.colab import drive\n",
        "drive.mount('/content/drive')"
      ]
    },
    {
      "cell_type": "code",
      "execution_count": 4,
      "metadata": {
        "colab": {
          "base_uri": "https://localhost:8080/"
        },
        "id": "yjJmPq4Vx2tR",
        "outputId": "e76bba2c-cd15-4971-9a73-01d81ed9bed3"
      },
      "outputs": [
        {
          "output_type": "stream",
          "name": "stdout",
          "text": [
            "Collecting flask-ngrok\n",
            "  Downloading flask_ngrok-0.0.25-py3-none-any.whl (3.1 kB)\n",
            "Requirement already satisfied: Flask>=0.8 in /usr/local/lib/python3.10/dist-packages (from flask-ngrok) (2.2.5)\n",
            "Requirement already satisfied: requests in /usr/local/lib/python3.10/dist-packages (from flask-ngrok) (2.31.0)\n",
            "Requirement already satisfied: Werkzeug>=2.2.2 in /usr/local/lib/python3.10/dist-packages (from Flask>=0.8->flask-ngrok) (3.0.1)\n",
            "Requirement already satisfied: Jinja2>=3.0 in /usr/local/lib/python3.10/dist-packages (from Flask>=0.8->flask-ngrok) (3.1.2)\n",
            "Requirement already satisfied: itsdangerous>=2.0 in /usr/local/lib/python3.10/dist-packages (from Flask>=0.8->flask-ngrok) (2.1.2)\n",
            "Requirement already satisfied: click>=8.0 in /usr/local/lib/python3.10/dist-packages (from Flask>=0.8->flask-ngrok) (8.1.7)\n",
            "Requirement already satisfied: charset-normalizer<4,>=2 in /usr/local/lib/python3.10/dist-packages (from requests->flask-ngrok) (3.3.2)\n",
            "Requirement already satisfied: idna<4,>=2.5 in /usr/local/lib/python3.10/dist-packages (from requests->flask-ngrok) (3.6)\n",
            "Requirement already satisfied: urllib3<3,>=1.21.1 in /usr/local/lib/python3.10/dist-packages (from requests->flask-ngrok) (2.0.7)\n",
            "Requirement already satisfied: certifi>=2017.4.17 in /usr/local/lib/python3.10/dist-packages (from requests->flask-ngrok) (2023.11.17)\n",
            "Requirement already satisfied: MarkupSafe>=2.0 in /usr/local/lib/python3.10/dist-packages (from Jinja2>=3.0->Flask>=0.8->flask-ngrok) (2.1.3)\n",
            "Installing collected packages: flask-ngrok\n",
            "Successfully installed flask-ngrok-0.0.25\n"
          ]
        }
      ],
      "source": [
        "!pip install flask-ngrok"
      ]
    },
    {
      "cell_type": "code",
      "execution_count": 5,
      "metadata": {
        "id": "NJr1LEt-cEt_"
      },
      "outputs": [],
      "source": [
        "!wget -q -c -nc https://bin.equinox.io/c/4VmDzA7iaHb/ngrok-stable-linux-amd64.zip\n",
        "!unzip -qq -n ngrok-stable-linux-amd64.zip\n"
      ]
    },
    {
      "cell_type": "code",
      "execution_count": 7,
      "metadata": {
        "colab": {
          "base_uri": "https://localhost:8080/"
        },
        "id": "7Az1qVEQVDzd",
        "outputId": "af6f57b4-6093-41a8-c00b-5df985116bd3"
      },
      "outputs": [
        {
          "output_type": "stream",
          "name": "stdout",
          "text": [
            "Authtoken saved to configuration file: /root/.ngrok2/ngrok.yml\n"
          ]
        }
      ],
      "source": [
        "!./ngrok authtoken '2YAtmdEJ7rVYLx9gBbZAfSiHu9G_Nc4NVzNTSc2d3rJJu1Kv'"
      ]
    },
    {
      "cell_type": "code",
      "execution_count": 8,
      "metadata": {
        "id": "rpvOVj17FxVd"
      },
      "outputs": [],
      "source": [
        "import pytesseract\n",
        "from pytesseract import Output\n",
        "from PIL import Image\n",
        "import cv2\n",
        "import os"
      ]
    },
    {
      "cell_type": "code",
      "execution_count": 9,
      "metadata": {
        "id": "Muw0pgog2cDd"
      },
      "outputs": [],
      "source": [
        "import tensorflow as tf\n",
        "import matplotlib.pyplot as plt\n",
        "import pandas as pd\n",
        "import numpy as np"
      ]
    },
    {
      "cell_type": "code",
      "execution_count": 10,
      "metadata": {
        "colab": {
          "base_uri": "https://localhost:8080/"
        },
        "id": "Sb_rJLf42had",
        "outputId": "1f3e5db4-b0b4-419d-b981-4bd655eddac6"
      },
      "outputs": [
        {
          "output_type": "stream",
          "name": "stderr",
          "text": [
            "[nltk_data] Downloading package stopwords to /root/nltk_data...\n",
            "[nltk_data]   Unzipping corpora/stopwords.zip.\n"
          ]
        }
      ],
      "source": [
        "import nltk\n",
        "nltk.download('stopwords')\n",
        "from nltk.corpus import stopwords\n",
        "from nltk.stem import SnowballStemmer"
      ]
    },
    {
      "cell_type": "code",
      "execution_count": 11,
      "metadata": {
        "id": "yXc_Squf3GPl"
      },
      "outputs": [],
      "source": [
        "stop_words = stopwords.words('english')\n",
        "stemmer = SnowballStemmer('english')\n",
        "\n",
        "text_cleaning_re = \"@\\S+|https?:\\S+|http?:\\S|[^A-Za-z0-9]+\""
      ]
    },
    {
      "cell_type": "code",
      "execution_count": 12,
      "metadata": {
        "colab": {
          "base_uri": "https://localhost:8080/"
        },
        "id": "o2vPzp6epcWX",
        "outputId": "28b48dcf-bdaf-49b1-a137-8a0c81187b31"
      },
      "outputs": [
        {
          "output_type": "stream",
          "name": "stdout",
          "text": [
            "/content/drive/MyDrive/Save model\n"
          ]
        }
      ],
      "source": [
        "cd /content/drive/MyDrive/Save model"
      ]
    },
    {
      "cell_type": "code",
      "execution_count": 13,
      "metadata": {
        "id": "Om06_d6N3KYs"
      },
      "outputs": [],
      "source": [
        "import re\n",
        "import pickle"
      ]
    },
    {
      "cell_type": "code",
      "execution_count": 14,
      "metadata": {
        "id": "wp6S_dmOsWSD"
      },
      "outputs": [],
      "source": [
        "path=\"/content/drive/MyDrive/datasets/Disease_symptom_and_patient_profile_dataset.csv\"\n",
        "df=pd.read_csv(path)\n",
        "labels_array = df['Disease'].to_numpy()\n",
        "from sklearn.preprocessing import LabelEncoder\n",
        "\n",
        "# Assuming 'original_labels' is a list or NumPy array containing your original labels\n",
        "label_encoder = LabelEncoder()\n",
        "label_encoder.fit(labels_array)\n",
        "\n",
        "# Now, you can use the fitted label encoder to transform and inverse transform labels\n",
        "encoded_labels = label_encoder.transform(labels_array)\n",
        "\n",
        "# To convert back to original labels from encoded labels\n",
        "decoded_labels = label_encoder.inverse_transform(encoded_labels)"
      ]
    },
    {
      "cell_type": "code",
      "execution_count": 15,
      "metadata": {
        "id": "c26p_dEcw1tf"
      },
      "outputs": [],
      "source": [
        "from flask import Flask, request, render_template,redirect\n",
        "from PIL import Image\n",
        "import pytesseract\n",
        "import re\n",
        "import pickle  # Import necessary libraries\n",
        "import spacy\n",
        "from spacy.matcher import Matcher\n",
        "from nltk.tokenize import word_tokenize, sent_tokenize\n",
        "import joblib"
      ]
    },
    {
      "cell_type": "code",
      "execution_count": 16,
      "metadata": {
        "colab": {
          "base_uri": "https://localhost:8080/"
        },
        "id": "P6JMXz5Rx4D8",
        "outputId": "2c1d23e1-f9fc-4e6d-b5e6-7ee3eed41b75"
      },
      "outputs": [
        {
          "output_type": "stream",
          "name": "stdout",
          "text": [
            " * Serving Flask app '__main__'\n",
            " * Debug mode: off\n"
          ]
        },
        {
          "output_type": "stream",
          "name": "stderr",
          "text": [
            "INFO:werkzeug:\u001b[31m\u001b[1mWARNING: This is a development server. Do not use it in a production deployment. Use a production WSGI server instead.\u001b[0m\n",
            " * Running on http://127.0.0.1:5000\n",
            "INFO:werkzeug:\u001b[33mPress CTRL+C to quit\u001b[0m\n"
          ]
        },
        {
          "output_type": "stream",
          "name": "stdout",
          "text": [
            " * Running on http://dbad-34-32-161-17.ngrok-free.app\n",
            " * Traffic stats available on http://127.0.0.1:4040\n"
          ]
        },
        {
          "output_type": "stream",
          "name": "stderr",
          "text": [
            "INFO:werkzeug:127.0.0.1 - - [26/Dec/2023 11:59:17] \"GET / HTTP/1.1\" 200 -\n",
            "INFO:werkzeug:127.0.0.1 - - [26/Dec/2023 11:59:18] \"\u001b[33mGET /favicon.ico HTTP/1.1\u001b[0m\" 404 -\n"
          ]
        },
        {
          "output_type": "stream",
          "name": "stdout",
          "text": [
            "Blood Pressure: 120/80 \n",
            "198 mg/dL\n"
          ]
        },
        {
          "output_type": "stream",
          "name": "stderr",
          "text": [
            "/usr/local/lib/python3.10/dist-packages/sklearn/base.py:439: UserWarning: X does not have valid feature names, but RandomForestClassifier was fitted with feature names\n",
            "  warnings.warn(\n",
            "INFO:werkzeug:127.0.0.1 - - [26/Dec/2023 11:59:30] \"POST /upload HTTP/1.1\" 200 -\n",
            "INFO:werkzeug:127.0.0.1 - - [26/Dec/2023 11:59:58] \"GET / HTTP/1.1\" 200 -\n"
          ]
        }
      ],
      "source": [
        "model1=joblib.load(open('disease1.joblib','rb'))\n",
        "nlp = spacy.load(\"en_core_web_sm\")\n",
        "# Define stop_words, text_cleaning_re, stemmer, and other necessary variables here\n",
        "\n",
        "app = Flask(__name__,template_folder='/content/drive/MyDrive/KRS P1/templates')\n",
        "def intoken(text1):\n",
        "  text1=text1.lower()\n",
        "  words = text1.split()\n",
        "  return(words)\n",
        "\n",
        "def clean( text):\n",
        "  text = re.sub(text_cleaning_re, ' ', str(text).lower()).strip()\n",
        "  stem = False\n",
        "  tokens = []\n",
        "  for token in text.split():\n",
        "     if token not in stop_words:\n",
        "           if stem:\n",
        "               tokens.append(stemmer.stem(token))\n",
        "           else:\n",
        "               tokens.append(token)\n",
        "               processed_text = \" \".join(tokens)\n",
        "  return processed_text\n",
        "\n",
        "def fever(tokentext):\n",
        "  f=\"fever\"\n",
        "  if f in tokentext:\n",
        "    return \"Yes\"\n",
        "  else:\n",
        "\n",
        "   return \"No\"\n",
        "\n",
        "\n",
        "def cough(tokentext):\n",
        "  c=\"cough\"\n",
        "  if c in tokentext:\n",
        "    return \"Yes\"\n",
        "  else:\n",
        "    print(f\"'{c}' not found in the string.\")\n",
        "  return \"No\"\n",
        "\n",
        "def fatigue(tokentext):\n",
        "  f=\"cough\"\n",
        "  if f in tokentext:\n",
        "    return \"Yes\"\n",
        "  else:\n",
        "    return \"No\"\n",
        "\n",
        "def extract_breathing_issues(tokentext):\n",
        "    doc = nlp(tokentext)\n",
        "\n",
        "    breathing_sentences = []\n",
        "\n",
        "\n",
        "    for sentence in doc.sents:\n",
        "        if 'breath' in sentence.text.lower() or 'breathe' in sentence.text.lower() or 'respiratory' in sentence.text.lower():\n",
        "            breathing_sentences.append(sentence.text)\n",
        "\n",
        "    return breathing_sentences\n",
        "\n",
        "def breathing(text):\n",
        "  breathing_issues = extract_breathing_issues(text)\n",
        "  flag=0\n",
        "  if breathing_issues:\n",
        "    return \"Yes\"\n",
        "  else:\n",
        "    return \"No\"\n",
        "\n",
        "\n",
        "def age(text):\n",
        "  # Load the English NLP model\n",
        " nlp = spacy.load(\"en_core_web_sm\")\n",
        "\n",
        "# Create a Matcher object\n",
        " matcher = Matcher(nlp.vocab)\n",
        "\n",
        "# Define a pattern for identifying age\n",
        " age_pattern = [{\"IS_DIGIT\": True}, {\"LOWER\": {\"in\": [\"years\", \"yrs\", \"years old\",\"age\",\"y\",\"AGE\",\"Age\"]}}]\n",
        "\n",
        "# Add the pattern to the matcher\n",
        " matcher.add(\"AGE\", [age_pattern])\n",
        "\n",
        "# Process a text\n",
        "\n",
        " doc = nlp(text)\n",
        "\n",
        "# Use the matcher to find matches\n",
        " matches = matcher(doc)\n",
        "\n",
        "# Extract information about age\n",
        " for match_id, start, end in matches:\n",
        "    if match_id == nlp.vocab.strings[\"AGE\"]:\n",
        "        age_text = doc[start:end].text\n",
        "        g=age_text\n",
        "        return(f\"Age: {age_text}\")\n",
        "\n",
        "def categorize_blood_pressure(systolic, diastolic):\n",
        "    if systolic < 90 or diastolic < 60:\n",
        "        return \"Low\"\n",
        "    elif systolic > 120 or diastolic > 80:\n",
        "        return \"High\"\n",
        "    else:\n",
        "        return \"Normal\"\n",
        "\n",
        "def blood_p(text):\n",
        " pattern = re.compile(r'(\\d+/\\d+\\s?mmHg)')\n",
        "\n",
        " matches = pattern.findall(text)\n",
        " if matches!=\" \":\n",
        "     pattern2 = re.compile(r'(\\d+/\\d+\\s?)')\n",
        "     matches2 = pattern2.findall(text)\n",
        " else:\n",
        "     return \"UPLoad valid prescription\"\n",
        "# Output the result\n",
        " if matches2:\n",
        "    for value in matches2:\n",
        "        print(\"Blood Pressure:\", value)\n",
        " else:\n",
        "    print(\"No blood pressure values found in the text.\")\n",
        "\n",
        " systolic, diastolic = map(int, value.split('/'))\n",
        " category = categorize_blood_pressure(systolic, diastolic)\n",
        " return category\n",
        "\n",
        "def extract_cholesterol(text):\n",
        "    # Use regular expression to find patterns related to cholesterol\n",
        "    # Examples: Cholesterol: 150 mg/dL, Cholesterol: 200mg/dl, etc.\n",
        "    pattern = re.compile(r'(\\d+\\s?mg/dL)')\n",
        "    matches = pattern.findall(text)\n",
        "    return matches\n",
        "\n",
        "def deterchol(numeric_value):\n",
        "  if (numeric_value<200 or numeric_value>40):\n",
        "    return(\"Normal\")\n",
        "  elif (numeric_value<40):\n",
        "    return(\"Low\")\n",
        "  else:\n",
        "    return(\"High\")\n",
        "\n",
        "def cholestrol(text):\n",
        "  value=\"\"\n",
        "  cholesterol_values = extract_cholesterol(text)\n",
        "\n",
        "  if cholesterol_values:\n",
        "    for value in cholesterol_values:\n",
        "        print( value)\n",
        "  else:\n",
        "    print(\"No cholesterol values found in the text.\")\n",
        "\n",
        "  numeric_value = re.search(r'\\d+(\\.\\d+)?', value).group()\n",
        "  chol=deterchol(int(numeric_value))\n",
        "  return chol\n",
        "# Function to replace values based on the dictionary\n",
        "def gender(text):\n",
        "  gender_pattern = re.compile(r'\\b(?:male|female|M|F)\\b', re.IGNORECASE)\n",
        "  genders_found = gender_pattern.findall(text)\n",
        "  return genders_found[0]\n",
        "\n",
        "def replace(value, dictionary):\n",
        "    return dictionary.get(value, value)\n",
        "\n",
        "def pred(input_data):\n",
        " model1=joblib.load(open('disease1.joblib','rb'))\n",
        " input_data_as_numpy=np.asarray(input_data)\n",
        " #input_data_as_numpy.shape\n",
        " input_data_reshaped=input_data_as_numpy.reshape(1,-1)\n",
        " #input_data_reshaped.shape\n",
        " prediction=model1.predict(input_data_reshaped)\n",
        " output = round(prediction[0], 2)\n",
        "\n",
        " return decoded_labels[output]\n",
        "\n",
        "\n",
        "# HTML form to upload an image\n",
        "@app.route('/')\n",
        "def index():\n",
        "    return '''\n",
        "    <h>Upload Prescription Here</h><p>\n",
        "    <form method=\"POST\" action=\"/upload\" enctype=\"multipart/form-data\">\n",
        "        <input type=\"file\" name=\"file\">\n",
        "        <input type=\"submit\" value=\"Upload\">\n",
        "    </form><p>\n",
        "    '''\n",
        "\n",
        "# Route to handle image upload and perform OCR\n",
        "@app.route('/upload', methods=['POST'])\n",
        "def upload():\n",
        "    if 'file' not in request.files:\n",
        "        return 'No file part'\n",
        "\n",
        "    file = request.files['file']\n",
        "\n",
        "    if file.filename == '':\n",
        "        return 'No selected file'\n",
        "\n",
        "    if file:\n",
        "\n",
        "        # Save the uploaded image temporarily\n",
        "        img = Image.open(file)\n",
        "        text = pytesseract.image_to_string(img)\n",
        "\n",
        "    pt=clean(text)\n",
        "    tokentext=intoken(pt)\n",
        "\n",
        "\n",
        "\n",
        "    FVR=fever(tokentext)\n",
        "    CGH=cough(tokentext)\n",
        "    FTG=fatigue(tokentext)\n",
        "    DB=breathing(text)\n",
        "    AGE=age(text)\n",
        "    GND=gender(text)\n",
        "    BP=blood_p(text)\n",
        "    CHL=cholestrol(text)\n",
        "    outcome=\"Positive\"\n",
        "\n",
        "    add=\"\"\n",
        "    for x in AGE:\n",
        "     if (x.isdigit()):\n",
        "      add=add+x\n",
        "\n",
        "    Age=add\n",
        "\n",
        "\n",
        "\n",
        "    #dicc = { 'Yes': 1, 'No': 0, 'Low': 1, 'Normal': 2, 'High': 3,'Positive': 1, 'Negative': 0, 'Male': 0, 'Female': 1}\n",
        "    dicc = {\n",
        "    'Yes': '1', 'No': '0', 'Low': '1', 'Normal': '2', 'High': '3',\n",
        "    'Positive': '1', 'Negative': '0', 'Male': '0', 'Female': '1'}\n",
        "\n",
        "     # Input data\n",
        "    input_data=[FVR,CGH,FTG,DB,Age,GND,BP,CHL,outcome]\n",
        "    #input_data = [\"Yes\", \"Yes\", \"No\", \"Yes\", \"25\", \"Male\", \"Normal\", \"Normal\", \"Positive\"]\n",
        "    input_data = [replace(y, dicc) for y in input_data]\n",
        "\n",
        "    # Process input_data using the replace function\n",
        "    #input=[\"1\",\"0\",\"0\",\"0\",\"30\",\"1\",\"2\",\"2\",\"0\"]\n",
        "    lol1 =pred(input_data)\n",
        "    #return lol1\n",
        "    return render_template('port.html',fo=\"{}\".format(FVR),cg=\"{}\".format(CGH),ft=\"{}\".format(FTG),dibe=\"{}\".format(DB),ag=\"{} years\".format(Age),gen=\"{}\".format(GND),blp=\"{}\".format(BP),chl=\"{}\".format(CHL),dis=\"{}\".format(lol1))\n",
        "\n",
        "\n",
        "\n",
        "\n",
        "if __name__ == '__main__':\n",
        "    from flask_ngrok import run_with_ngrok\n",
        "\n",
        "    run_with_ngrok(app)  # Start ngrok when the app is run\n",
        "    app.run()  # Run the Flask app\n"
      ]
    }
  ],
  "metadata": {
    "colab": {
      "provenance": [],
      "authorship_tag": "ABX9TyPdUqoDnqL3jdrI1m9ov+1+",
      "include_colab_link": true
    },
    "kernelspec": {
      "display_name": "Python 3",
      "name": "python3"
    },
    "language_info": {
      "name": "python"
    }
  },
  "nbformat": 4,
  "nbformat_minor": 0
}